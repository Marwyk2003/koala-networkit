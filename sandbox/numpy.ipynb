{
 "cells": [
  {
   "cell_type": "code",
   "execution_count": 4,
   "metadata": {},
   "outputs": [],
   "source": [
    "import numpy as np\n",
    "import random"
   ]
  },
  {
   "cell_type": "code",
   "execution_count": 5,
   "metadata": {},
   "outputs": [
    {
     "data": {
      "text/plain": [
       "array([[  1.,   2.,   4.,   8.],\n",
       "       [  1.,   3.,   9.,  27.],\n",
       "       [  1.,   4.,  16.,  64.],\n",
       "       [  1.,   5.,  25., 125.]])"
      ]
     },
     "execution_count": 5,
     "metadata": {},
     "output_type": "execute_result"
    }
   ],
   "source": [
    "A = np.array([[1, 2, 4, 8], [1, 3, 9, 27], [\n",
    "             1, 4, 16, 64], [1, 5, 25, 125]], dtype=float)\n",
    "A"
   ]
  },
  {
   "cell_type": "code",
   "execution_count": 6,
   "metadata": {},
   "outputs": [],
   "source": [
    "def elim(A, r, c):\n",
    "    B = np.outer(A[r, :], A[:, c])/A[r, c]\n",
    "    return B, A-B"
   ]
  },
  {
   "cell_type": "code",
   "execution_count": 146,
   "metadata": {},
   "outputs": [
    {
     "data": {
      "text/plain": [
       "(array([[ 1. ,  1.5,  2. ,  2.5],\n",
       "        [ 2. ,  3. ,  4. ,  5. ],\n",
       "        [ 4. ,  6. ,  8. , 10. ],\n",
       "        [ 8. , 12. , 16. , 20. ]]),\n",
       " array([[  0. ,   0.5,   2. ,   5.5],\n",
       "        [ -1. ,   0. ,   5. ,  22. ],\n",
       "        [ -3. ,  -2. ,   8. ,  54. ],\n",
       "        [ -7. ,  -7. ,   9. , 105. ]]))"
      ]
     },
     "execution_count": 146,
     "metadata": {},
     "output_type": "execute_result"
    }
   ],
   "source": [
    "elim(A, 0, 1)"
   ]
  },
  {
   "cell_type": "code",
   "execution_count": 14,
   "metadata": {},
   "outputs": [],
   "source": [
    "def brute_elimination(A):\n",
    "    n = A.shape[0]\n",
    "\n",
    "    for i in range(n):\n",
    "        # eliminate\n",
    "        u, v, a = A[i+1:, i], A[i, i+1:], A[i, i]\n",
    "        B = np.outer(u, v)/a\n",
    "        A[i+1:, i+1:] -= B\n",
    "\n",
    "        # cleanup\n",
    "        A[i, i+1:] = 0\n",
    "        A[i+1:, i] = 0\n",
    "\n",
    "    return A"
   ]
  },
  {
   "cell_type": "code",
   "execution_count": 94,
   "metadata": {},
   "outputs": [],
   "source": [
    "def find_j(i):\n",
    "    j, j2 = 0, 1\n",
    "    while i % (j2*2) == 0:\n",
    "        j, j2 = j+1, j2*2\n",
    "    return j, j2\n",
    "\n",
    "\n",
    "def update(r1, r2, c1, c2, acc):\n",
    "    '''\n",
    "    ret: (r2-r1+1) x (c2-c1+1) matrix\n",
    "    '''\n",
    "    k = len(acc)\n",
    "    print(\"UPDATE\", acc)\n",
    "\n",
    "    U = np.ndarray((r2-r1+1, k))\n",
    "    V = np.ndarray((k, c2-c1+1))\n",
    "    for i, (u, v, a) in enumerate(acc):\n",
    "        U[:, i] = u[r1:r2+1]/a\n",
    "        # print(V[i, :].shape, c1, c2+1, v)\n",
    "        V[i, :] = v[c1:c2+1]\n",
    "\n",
    "    return np.matmul(U, V)"
   ]
  },
  {
   "cell_type": "code",
   "execution_count": 41,
   "metadata": {},
   "outputs": [],
   "source": [
    "def simple_elimination(A):\n",
    "    n = A.shape[0]\n",
    "    lazy = [None for x in range(n)]\n",
    "\n",
    "    for i in range(n-1):\n",
    "        j, j2 = find_j(i+1)\n",
    "\n",
    "        # lazy eliminate\n",
    "        u, v, a = A[:, i].copy(), A[i, :].copy(), A[i, i]\n",
    "        lazy[i] = (u, v, a)\n",
    "\n",
    "        # update\n",
    "        acc = lazy[max(0, i-j2+1):i+1]\n",
    "\n",
    "        r1, r2, c1, c2 = i+1, min(i+j2, n-1), i+1, n-1\n",
    "        B = update(r1, r2, c1, c2, acc)\n",
    "        A[r1:r2+1, c1:c2+1] -= B\n",
    "\n",
    "        r1, r2, c1, c2 = i+j2+1, n-1, i+1, min(i+j2, n-1)\n",
    "        if r1 < n:\n",
    "            B = update(r1, r2, c1, c2, acc)\n",
    "            A[r1:r2+1, c1:c2+1] -= B\n",
    "\n",
    "        # cleanup\n",
    "        A[i, i+1:] = 0.0\n",
    "        A[i+1:, i] = 0.0\n",
    "\n",
    "    return A"
   ]
  },
  {
   "cell_type": "code",
   "execution_count": 67,
   "metadata": {},
   "outputs": [],
   "source": [
    "def complex_brute_elimination(A):\n",
    "    n = A.shape[0]\n",
    "    lazy = [None for x in range(n)]\n",
    "\n",
    "    rows = [*range(n)]\n",
    "    # random.shuffle(rows)\n",
    "\n",
    "    for r, c in zip(rows, range(n)):\n",
    "        j, j2 = find_j(c+1)\n",
    "\n",
    "        # lazy eliminate\n",
    "        Arc = A[r, c]\n",
    "        lazy[c] = (A[:, c].copy(), Arc)\n",
    "\n",
    "        # update\n",
    "        for i in range(c-j2+1, c+1):\n",
    "            v, u, a = A[i, c+1:c+j2+1], *lazy[i]\n",
    "            B = np.outer(u, v)/a\n",
    "            A[:, c+1:c+j2+1] -= B\n",
    "\n",
    "        A[:, c] = 0.0\n",
    "        A[r, c] = Arc\n",
    "\n",
    "    return A"
   ]
  },
  {
   "cell_type": "code",
   "execution_count": 110,
   "metadata": {},
   "outputs": [],
   "source": [
    "def complex_elimination(A):\n",
    "    n = A.shape[0]\n",
    "    lazy = [None for x in range(n)]\n",
    "\n",
    "    rows = [*range(n)]\n",
    "    # random.shuffle(rows)\n",
    "\n",
    "    for r, c in zip(rows, range(n)):\n",
    "        j, j2 = find_j(c+1)\n",
    "\n",
    "        # lazy eliminate\n",
    "        Arc = A[r, c]\n",
    "        lazy[c] = (A[:, c].copy(), Arc)\n",
    "\n",
    "        # lazy update\n",
    "        super_lazy = [None for x in range(j2)]\n",
    "        print(\"LAZY UPDATE\")\n",
    "        print(A)\n",
    "        for i in range(j2):\n",
    "            l, l2 = find_j(i+1)\n",
    "\n",
    "            # lazy eliminate\n",
    "            v, u, a = A[c-j2+1+i, :].copy(), *lazy[c-j2+1+i]\n",
    "            # print(v)\n",
    "            acc = super_lazy[max(0, i-l2+1):i]+[(u,v,a)]\n",
    "\n",
    "            # update\n",
    "            r1, r2, c1, c2 = 0, n-1, c+i+1, min(c+j2, n-1)\n",
    "            if c+i+1 < n:\n",
    "                B = update(r1, r2, c1, c2, acc)\n",
    "                A[r1:r2+1, c1:c2+1] -= B\n",
    "\n",
    "                print(\"UPDATE\", i)\n",
    "                print(A)\n",
    "            \n",
    "            v, u, a = A[c-j2+1+i, :].copy(), *lazy[c-j2+1+i]\n",
    "            super_lazy[i] = (u, v, a)\n",
    "\n",
    "        A[:, c] = 0.0\n",
    "        A[r, c] = Arc\n",
    "        print(\"RESULT\")\n",
    "        print(A)\n",
    "\n",
    "    return A"
   ]
  },
  {
   "cell_type": "code",
   "execution_count": 111,
   "metadata": {},
   "outputs": [
    {
     "name": "stdout",
     "output_type": "stream",
     "text": [
      "LAZY UPDATE\n",
      "[[  1.   2.   4.   8.]\n",
      " [  1.   3.   9.  27.]\n",
      " [  1.   4.  16.  64.]\n",
      " [  1.   5.  25. 125.]]\n",
      "UPDATE [(array([1., 1., 1., 1.]), array([1., 2., 4., 8.]), 1.0)]\n",
      "UPDATE 0\n",
      "[[  1.   0.   4.   8.]\n",
      " [  1.   1.   9.  27.]\n",
      " [  1.   2.  16.  64.]\n",
      " [  1.   3.  25. 125.]]\n",
      "RESULT\n",
      "[[  1.   0.   4.   8.]\n",
      " [  0.   1.   9.  27.]\n",
      " [  0.   2.  16.  64.]\n",
      " [  0.   3.  25. 125.]]\n",
      "LAZY UPDATE\n",
      "[[  1.   0.   4.   8.]\n",
      " [  0.   1.   9.  27.]\n",
      " [  0.   2.  16.  64.]\n",
      " [  0.   3.  25. 125.]]\n",
      "UPDATE [(array([1., 1., 1., 1.]), array([1., 0., 4., 8.]), 1.0)]\n",
      "UPDATE 0\n",
      "[[  1.   0.   0.   0.]\n",
      " [  0.   1.   5.  19.]\n",
      " [  0.   2.  12.  56.]\n",
      " [  0.   3.  21. 117.]]\n",
      "UPDATE [(array([1., 1., 1., 1.]), array([1., 0., 0., 0.]), 1.0), (array([0., 1., 2., 3.]), array([ 0.,  1.,  5., 19.]), 1.0)]\n",
      "UPDATE 1\n",
      "[[ 1.  0.  0.  0.]\n",
      " [ 0.  1.  5.  0.]\n",
      " [ 0.  2. 12. 18.]\n",
      " [ 0.  3. 21. 60.]]\n",
      "RESULT\n",
      "[[ 1.  0.  0.  0.]\n",
      " [ 0.  1.  5.  0.]\n",
      " [ 0.  0. 12. 18.]\n",
      " [ 0.  0. 21. 60.]]\n",
      "LAZY UPDATE\n",
      "[[ 1.  0.  0.  0.]\n",
      " [ 0.  1.  5.  0.]\n",
      " [ 0.  0. 12. 18.]\n",
      " [ 0.  0. 21. 60.]]\n",
      "UPDATE [(array([ 0.,  5., 12., 21.]), array([ 0.,  0., 12., 18.]), 12.0)]\n",
      "UPDATE 0\n",
      "[[ 1.   0.   0.   0. ]\n",
      " [ 0.   1.   5.  -7.5]\n",
      " [ 0.   0.  12.   0. ]\n",
      " [ 0.   0.  21.  28.5]]\n",
      "RESULT\n",
      "[[ 1.   0.   0.   0. ]\n",
      " [ 0.   1.   0.  -7.5]\n",
      " [ 0.   0.  12.   0. ]\n",
      " [ 0.   0.   0.  28.5]]\n",
      "LAZY UPDATE\n",
      "[[ 1.   0.   0.   0. ]\n",
      " [ 0.   1.   0.  -7.5]\n",
      " [ 0.   0.  12.   0. ]\n",
      " [ 0.   0.   0.  28.5]]\n",
      "RESULT\n",
      "[[ 1.   0.   0.   0. ]\n",
      " [ 0.   1.   0.   0. ]\n",
      " [ 0.   0.  12.   0. ]\n",
      " [ 0.   0.   0.  28.5]]\n"
     ]
    },
    {
     "data": {
      "text/plain": [
       "array([[ 1. ,  0. ,  0. ,  0. ],\n",
       "       [ 0. ,  1. ,  0. ,  0. ],\n",
       "       [ 0. ,  0. , 12. ,  0. ],\n",
       "       [ 0. ,  0. ,  0. , 28.5]])"
      ]
     },
     "execution_count": 111,
     "metadata": {},
     "output_type": "execute_result"
    }
   ],
   "source": [
    "complex_elimination(A.copy())"
   ]
  },
  {
   "cell_type": "code",
   "execution_count": 26,
   "metadata": {},
   "outputs": [
    {
     "data": {
      "text/plain": [
       "array([[1., 0., 0., 0.],\n",
       "       [0., 1., 0., 0.],\n",
       "       [0., 0., 2., 0.],\n",
       "       [0., 0., 0., 6.]])"
      ]
     },
     "execution_count": 26,
     "metadata": {},
     "output_type": "execute_result"
    }
   ],
   "source": [
    "complex_brute_elimination(A.copy())"
   ]
  },
  {
   "cell_type": "code",
   "execution_count": 42,
   "metadata": {},
   "outputs": [
    {
     "data": {
      "text/plain": [
       "array([[1., 0., 0., 0.],\n",
       "       [0., 1., 0., 0.],\n",
       "       [0., 0., 2., 0.],\n",
       "       [0., 0., 0., 6.]])"
      ]
     },
     "execution_count": 42,
     "metadata": {},
     "output_type": "execute_result"
    }
   ],
   "source": [
    "simple_elimination(A.copy())"
   ]
  },
  {
   "cell_type": "code",
   "execution_count": 16,
   "metadata": {},
   "outputs": [
    {
     "data": {
      "text/plain": [
       "array([[1., 0., 0., 0.],\n",
       "       [0., 1., 0., 0.],\n",
       "       [0., 0., 2., 0.],\n",
       "       [0., 0., 0., 6.]])"
      ]
     },
     "execution_count": 16,
     "metadata": {},
     "output_type": "execute_result"
    }
   ],
   "source": [
    "brute_elimination(A.copy())"
   ]
  },
  {
   "cell_type": "code",
   "execution_count": 152,
   "metadata": {},
   "outputs": [
    {
     "data": {
      "text/plain": [
       "array([[11,  2,  3],\n",
       "       [12,  5,  6],\n",
       "       [13,  8,  9]])"
      ]
     },
     "execution_count": 152,
     "metadata": {},
     "output_type": "execute_result"
    }
   ],
   "source": [
    "B = np.array([[1, 2, 3], [4, 5, 6], [7, 8, 9]])\n",
    "v = np.array([11, 12, 13])\n",
    "B[:, 0] = v\n",
    "B"
   ]
  },
  {
   "cell_type": "code",
   "execution_count": 153,
   "metadata": {},
   "outputs": [
    {
     "data": {
      "text/plain": [
       "array([1., 2., 4., 8.])"
      ]
     },
     "execution_count": 153,
     "metadata": {},
     "output_type": "execute_result"
    }
   ],
   "source": [
    "A[0, :]"
   ]
  }
 ],
 "metadata": {
  "kernelspec": {
   "display_name": "Python 3",
   "language": "python",
   "name": "python3"
  },
  "language_info": {
   "codemirror_mode": {
    "name": "ipython",
    "version": 3
   },
   "file_extension": ".py",
   "mimetype": "text/x-python",
   "name": "python",
   "nbconvert_exporter": "python",
   "pygments_lexer": "ipython3",
   "version": "3.10.12"
  }
 },
 "nbformat": 4,
 "nbformat_minor": 2
}
